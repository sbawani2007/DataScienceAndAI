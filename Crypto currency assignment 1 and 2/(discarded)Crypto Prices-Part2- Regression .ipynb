{
 "cells": [
  {
   "cell_type": "code",
   "execution_count": 175,
   "metadata": {},
   "outputs": [],
   "source": [
    "import requests\n",
    "import datetime\n",
    "import pandas as pd\n",
    "import matplotlib.pyplot as plt\n",
    "import numpy as np\n",
    "from sklearn import datasets, linear_model\n",
    "from sklearn.metrics import mean_squared_error, r2_score\n",
    "from sklearn.model_selection import train_test_split\n",
    "%matplotlib inline"
   ]
  },
  {
   "cell_type": "code",
   "execution_count": 176,
   "metadata": {},
   "outputs": [],
   "source": [
    "def getCoinList():\n",
    "    req = requests.get('https://www.cryptocompare.com/api/data/coinlist/').json()\n",
    "    info = req['Data']\n",
    "    coinList = pd.DataFrame(info)\n",
    "    coinList = coinList.transpose()\n",
    "    coinList.to_csv('coinList.csv')\n",
    "    return coinList"
   ]
  },
  {
   "cell_type": "code",
   "execution_count": 177,
   "metadata": {},
   "outputs": [],
   "source": [
    "def daily_price_historical(symbol, comparison_symbol, all_data=True, limit=1, aggregate=1, exchange=''):\n",
    "    url = 'https://min-api.cryptocompare.com/data/histoday?fsym={}&tsym={}&limit={}&aggregate={}'\\\n",
    "            .format(symbol.upper(), comparison_symbol.upper(), limit, aggregate)\n",
    "    if exchange:\n",
    "        url += '&e={}'.format(exchange)\n",
    "    if all_data:\n",
    "        url += '&allData=true'\n",
    "    page = requests.get(url)\n",
    "    data = page.json()['Data']\n",
    "    df = pd.DataFrame(data)\n",
    "    df['timestamp'] = [datetime.datetime.fromtimestamp(d) for d in df.time]\n",
    "    df.to_csv(symbol + '.csv')\n",
    "    return df"
   ]
  },
  {
   "cell_type": "code",
   "execution_count": 178,
   "metadata": {},
   "outputs": [],
   "source": [
    "dfBTC = daily_price_historical('BTC','USD')\n",
    "dfETH = daily_price_historical('ETH','USD')\n"
   ]
  },
  {
   "cell_type": "code",
   "execution_count": 179,
   "metadata": {},
   "outputs": [
    {
     "data": {
      "text/html": [
       "<div>\n",
       "<style scoped>\n",
       "    .dataframe tbody tr th:only-of-type {\n",
       "        vertical-align: middle;\n",
       "    }\n",
       "\n",
       "    .dataframe tbody tr th {\n",
       "        vertical-align: top;\n",
       "    }\n",
       "\n",
       "    .dataframe thead th {\n",
       "        text-align: right;\n",
       "    }\n",
       "</style>\n",
       "<table border=\"1\" class=\"dataframe\">\n",
       "  <thead>\n",
       "    <tr style=\"text-align: right;\">\n",
       "      <th></th>\n",
       "      <th>close</th>\n",
       "      <th>high</th>\n",
       "      <th>low</th>\n",
       "      <th>open</th>\n",
       "      <th>time</th>\n",
       "      <th>volumefrom</th>\n",
       "      <th>volumeto</th>\n",
       "      <th>timestamp</th>\n",
       "    </tr>\n",
       "  </thead>\n",
       "  <tbody>\n",
       "    <tr>\n",
       "      <th>0</th>\n",
       "      <td>3.00</td>\n",
       "      <td>3.0</td>\n",
       "      <td>0.6747</td>\n",
       "      <td>0.6747</td>\n",
       "      <td>1438905600</td>\n",
       "      <td>123.93</td>\n",
       "      <td>371.79</td>\n",
       "      <td>2015-08-07</td>\n",
       "    </tr>\n",
       "    <tr>\n",
       "      <th>1</th>\n",
       "      <td>1.20</td>\n",
       "      <td>3.0</td>\n",
       "      <td>0.1500</td>\n",
       "      <td>3.0000</td>\n",
       "      <td>1438992000</td>\n",
       "      <td>2119.43</td>\n",
       "      <td>1438.16</td>\n",
       "      <td>2015-08-08</td>\n",
       "    </tr>\n",
       "    <tr>\n",
       "      <th>2</th>\n",
       "      <td>1.20</td>\n",
       "      <td>1.2</td>\n",
       "      <td>1.2000</td>\n",
       "      <td>1.2000</td>\n",
       "      <td>1439078400</td>\n",
       "      <td>0.00</td>\n",
       "      <td>0.00</td>\n",
       "      <td>2015-08-09</td>\n",
       "    </tr>\n",
       "    <tr>\n",
       "      <th>3</th>\n",
       "      <td>1.20</td>\n",
       "      <td>1.2</td>\n",
       "      <td>1.2000</td>\n",
       "      <td>1.2000</td>\n",
       "      <td>1439164800</td>\n",
       "      <td>0.00</td>\n",
       "      <td>0.00</td>\n",
       "      <td>2015-08-10</td>\n",
       "    </tr>\n",
       "    <tr>\n",
       "      <th>4</th>\n",
       "      <td>0.99</td>\n",
       "      <td>1.2</td>\n",
       "      <td>0.6504</td>\n",
       "      <td>1.2000</td>\n",
       "      <td>1439251200</td>\n",
       "      <td>9486.09</td>\n",
       "      <td>7419.73</td>\n",
       "      <td>2015-08-11</td>\n",
       "    </tr>\n",
       "  </tbody>\n",
       "</table>\n",
       "</div>"
      ],
      "text/plain": [
       "   close  high     low    open        time  volumefrom  volumeto  timestamp\n",
       "0   3.00   3.0  0.6747  0.6747  1438905600      123.93    371.79 2015-08-07\n",
       "1   1.20   3.0  0.1500  3.0000  1438992000     2119.43   1438.16 2015-08-08\n",
       "2   1.20   1.2  1.2000  1.2000  1439078400        0.00      0.00 2015-08-09\n",
       "3   1.20   1.2  1.2000  1.2000  1439164800        0.00      0.00 2015-08-10\n",
       "4   0.99   1.2  0.6504  1.2000  1439251200     9486.09   7419.73 2015-08-11"
      ]
     },
     "execution_count": 179,
     "metadata": {},
     "output_type": "execute_result"
    }
   ],
   "source": [
    "dfETH.head()"
   ]
  },
  {
   "cell_type": "code",
   "execution_count": 228,
   "metadata": {},
   "outputs": [],
   "source": [
    "\n",
    "def load_Data_btc():\n",
    "    dfY = dfBTC[(dfBTC.timestamp >= '2018-01-01') & (dfBTC.timestamp <= '2018-01-31')]\n",
    "    dfX = pd.read_csv(\"index.csv\")\n",
    "    dfX = dfX[(dfX.Date >= '2018-01-01') & (dfX.Date <= '2018-01-31')]\n",
    "    \n",
    "    \n",
    "    # calculate returns.\n",
    "    x_data = (dfX[\"Close\"] - dfX[\"Open\"])*100/ dfX[\"Open\"]\n",
    "    y_data = (dfY[\"close\"] - dfY[\"open\"])*100/ dfY[\"open\"]\n",
    "    \n",
    "    #X_trainset, X_testset, y_trainset, y_testset = train_test_split(x_data.reshape(1,-1), y_data.reshape(1,-1), test_size=0.3, random_state=7)\n",
    "    return x_data,y_data\n",
    "    #print(y_data.head() , x_data.head())\n"
   ]
  },
  {
   "cell_type": "code",
   "execution_count": 330,
   "metadata": {},
   "outputs": [],
   "source": [
    "def regressSKLearn(x_data,y_data):\n",
    "   \n",
    "    regr = linear_model.LinearRegression()\n",
    "\n",
    "    # Train the model using the training sets\n",
    "    x_train = x_data[0:15]\n",
    "    y_train = y_data[0:15]\n",
    "    x_test = x_data[15:30]\n",
    "    y_test = y_data[15:30]\n",
    "\n",
    "    regr.fit(x_train.values.reshape(1,-1),y_train.values.reshape(1,-1))\n",
    "    #print('Coefficients: \\n', regr.coef_)\n",
    "    #print(x_data.size,y_data.size);\n",
    "    #print(x_data.values.reshape(1,-1).size,y_data.values.reshape(1,-1).size)\n",
    "    #x_d1 = x_data[0:30]\n",
    "    #y_d1 = y_data[0:30]\n",
    "    #print(x_d1.size,y_d1.size)\n",
    "    plt.scatter(x_train, y_train, color='black')\n",
    "    plt.plot(x_test.values.reshape(1,-1), \n",
    "             regr.predict(x_test.values.reshape(1,-1)), \"ro\",color=\"orange\")\n",
    "    #print(x_test.values.reshape(1,-1).shape,x_test.values.reshape(1,-1))\n",
    "    print(regr.predict(x_test.values.reshape(1,-1)))\n",
    "    plt.show()"
   ]
  },
  {
   "cell_type": "code",
   "execution_count": 336,
   "metadata": {},
   "outputs": [
    {
     "name": "stdout",
     "output_type": "stream",
     "text": [
      "[[ -2.92848845   9.73790766   2.72826043   0.1556429   11.69097923\n",
      "    1.28306151  -5.51014586  -7.71549137  -3.38985201   3.11996953\n",
      "  -10.80603953   4.0060685    2.90386881  -4.25080665  -0.04875856]]\n"
     ]
    },
    {
     "data": {
      "image/png": "[encoded data removed]",
      "text/plain": [
       "<matplotlib.figure.Figure at 0x7f0cdace1828>"
      ]
     },
     "metadata": {},
     "output_type": "display_data"
    }
   ],
   "source": [
    "regressSKLearn(*load_Data_btc())"
   ]
  }
 ],
 "metadata": {
  "kernelspec": {
   "display_name": "Python 3",
   "language": "python",
   "name": "python3"
  },
  "language_info": {
   "codemirror_mode": {
    "name": "ipython",
    "version": 3
   },
   "file_extension": ".py",
   "mimetype": "text/x-python",
   "name": "python",
   "nbconvert_exporter": "python",
   "pygments_lexer": "ipython3",
   "version": "3.6.3"
  }
 },
 "nbformat": 4,
 "nbformat_minor": 2
}
